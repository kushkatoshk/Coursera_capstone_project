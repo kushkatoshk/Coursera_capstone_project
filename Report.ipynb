{
    "nbformat_minor": 1, 
    "cells": [
        {
            "source": "# Battle of the Neighborhoods - San Fransisco", 
            "cell_type": "markdown", 
            "metadata": {
                "collapsed": true
            }
        }, 
        {
            "source": "### Introduction", 
            "cell_type": "markdown", 
            "metadata": {}
        }, 
        {
            "source": "San Fransisco is one of the most developed cities in the world. It is easier to find a job there than to start a business of your own. Firstly, you will need to find an area where the business will flourish and then you will have to search for a vacant real estate for your business to start up. Now finding the right neighborhood is a really tough task because each neighborhood has almost everything and you will need to find a place where the idea of your business is lacking so that you can develop a proper customer base. It is a tedious task looking around each neighborhood to search for the right neighborhood and that is where data science comes in. Using Data Science we can find the best neighborhood to start your business in a very short span of time. ", 
            "cell_type": "markdown", 
            "metadata": {}
        }, 
        {
            "source": "### Business Understanding", 
            "cell_type": "markdown", 
            "metadata": {}
        }, 
        {
            "source": "The goal of this project is to find the best place to start an Indian Restaurant. As an Indian myself, I would love to start a business in San Fransisco and it is a dream for the business to flourish. We will use the San Fransisco Neighborhood dataset and we will use it to find the best place to start an Indian Restaurant. \n\nThe problem here is that it is very hard to find the right place to start an Indian Restaurant because San Fransisco has a very diverse set of restaurants everywhere, most of which seems established. So, for someone who wants to enter the restaurant business, it seems very hard to find the place to set up the business. It is very crucial to find the right spot because, constructing a restaurant is very costly and it is a one time inverstment. It is even harder to relocate, once the business starts failing, so we have to make the right choice in choosing the location.\n\nWe can solve this problem by first listing out all the neighborhoods and then using the Foursquare API to find all the types of facilities in each neighborhood. We then find out the list of neighborhoods containing Indian Restaurants and then we use this to filter out the neighborhoods that do not contain Indian Restaurants. These neighborhoods are our targets. We can check the ethnicity of these Neighborhoods and find out the ones which contain the most Indian Population because Indians are our prime customer base. Finally, we can choose the best area to set up and Indian Restaurant.\n\nThe Data used in this problem should be the San Fransisco Neihgborhood data and the San Fransisco Ethnicity ", 
            "cell_type": "markdown", 
            "metadata": {}
        }
    ], 
    "metadata": {
        "kernelspec": {
            "display_name": "Python 3.5", 
            "name": "python3", 
            "language": "python"
        }, 
        "language_info": {
            "mimetype": "text/x-python", 
            "nbconvert_exporter": "python", 
            "version": "3.5.5", 
            "name": "python", 
            "pygments_lexer": "ipython3", 
            "file_extension": ".py", 
            "codemirror_mode": {
                "version": 3, 
                "name": "ipython"
            }
        }
    }, 
    "nbformat": 4
}