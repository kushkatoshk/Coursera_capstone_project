{
    "nbformat_minor": 1, 
    "cells": [
        {
            "source": "# Data Section", 
            "cell_type": "markdown", 
            "metadata": {
                "collapsed": true
            }
        }, 
        {
            "source": "In this section, we will deal with the data to be used in the project.\n\nRequirements - Since, we are looking at finding the best neighborhood for setting up our Indian Restaurant, we will need the Toronto Neighborhood data. Like our previous projects, we need the borough of the neihgborhood and the latitude and longitude of the neighborhood. Once we have this, we will have a clean dataset to work with. Since we are also looking at the ethnicity of our customer base, We will need the San Fransisco Ethicity dataset. We should have the neighborhood and the borough and theethinicity groups in that neighborhood.\n\nCollection - We can collect the San Fransisco Data from online websites and we can create a dataframe out of it. We obtain the list of neighbourhoods using https://en.wikipedia.org/wiki/List_of_postal_codes_of_Canada:_M, for geolocation we use http://cocl.us/Geospatial_data and ethnicity data from https://en.wikipedia.org/wiki/Demographics_of_Toronto\n\nExtraction can be done by extracting the name of the neighborhood and the borough from the list of postal codes dataset and we can merge the latitude and longitude from the geospacial data with the former dataset.\n\nCleaning - Rows with missing neighborhoods were assigned the borough names and the rows with missing borough names were removed from the dataset.\n\nFoursquare API - Using the Foursquared API we were able to get the list of venues from each neighborhood and so we search each neighborhood for an Indian Restaurant. We make a list of such neighborhoods and we create a dataset with the neighborhoods not specified in the list. This is now our target dataset. Now that we have our target dataset and the ethnicity of the neighborhoods, we can carry on with our analysis.", 
            "cell_type": "markdown", 
            "metadata": {}
        }, 
        {
            "source": "", 
            "cell_type": "code", 
            "metadata": {}, 
            "outputs": [], 
            "execution_count": null
        }
    ], 
    "metadata": {
        "kernelspec": {
            "display_name": "Python 3.5", 
            "name": "python3", 
            "language": "python"
        }, 
        "language_info": {
            "mimetype": "text/x-python", 
            "nbconvert_exporter": "python", 
            "version": "3.5.5", 
            "name": "python", 
            "pygments_lexer": "ipython3", 
            "file_extension": ".py", 
            "codemirror_mode": {
                "version": 3, 
                "name": "ipython"
            }
        }
    }, 
    "nbformat": 4
}