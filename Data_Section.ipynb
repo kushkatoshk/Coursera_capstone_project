{
    "nbformat_minor": 1, 
    "cells": [
        {
            "source": "# Data Section", 
            "cell_type": "markdown", 
            "metadata": {
                "collapsed": true
            }
        }, 
        {
            "source": "In this section, we will deal with the data to be used in the project.\n\nReuirements - Since, we are looking at finding the best neighborhood for setting up our Indian Restaurant, we will need the San Fransisco Neighborhood data. Like our previous projects, we need the borough of the neihgborhood and the latitude and longitude of the neighborhood. Once we have this, we will have a clean dataset to work with. Since we are also looking at the ethnicity of our customer base, We will need the San Fransisco Ethicity dataset. We should have the neighborhood and the borough and the top 10 ethinicity groups in that neighborhood. I feel that the top 10 ethnicity will suffice for this project. \n\nNext we will use the ", 
            "cell_type": "markdown", 
            "metadata": {}
        }
    ], 
    "metadata": {
        "kernelspec": {
            "display_name": "Python 3.5", 
            "name": "python3", 
            "language": "python"
        }, 
        "language_info": {
            "mimetype": "text/x-python", 
            "nbconvert_exporter": "python", 
            "version": "3.5.5", 
            "name": "python", 
            "file_extension": ".py", 
            "pygments_lexer": "ipython3", 
            "codemirror_mode": {
                "version": 3, 
                "name": "ipython"
            }
        }
    }, 
    "nbformat": 4
}